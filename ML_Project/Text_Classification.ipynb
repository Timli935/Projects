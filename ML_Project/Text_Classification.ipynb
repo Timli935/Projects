{
 "cells": [
  {
   "cell_type": "markdown",
   "metadata": {},
   "source": [
    "## Acquiring data\n",
    "\n",
    "Read the csv file from the given link \n",
    "\n",
    "    train_url = \"https://github.com/PhilChodrow/PIC16b/blob/master/datasets/fake_news_train.csv?raw=true\""
   ]
  },
  {
   "cell_type": "code",
   "execution_count": 1,
   "metadata": {},
   "outputs": [],
   "source": [
    "#importing all packages\n",
    "import pandas as pd\n",
    "import matplotlib.pyplot as plt\n",
    "import numpy as np\n",
    "import nltk\n",
    "from nltk.corpus import stopwords\n",
    "import tensorflow as tf\n",
    "from tensorflow.keras import layers\n",
    "from tensorflow.keras.layers import TextVectorization, Embedding, Dense, Dropout, Input, GlobalAveragePooling1D\n",
    "from tensorflow.keras.models import Model\n",
    "import string\n",
    "import re"
   ]
  },
  {
   "cell_type": "code",
   "execution_count": 2,
   "metadata": {},
   "outputs": [
    {
     "data": {
      "text/html": [
       "<div>\n",
       "<style scoped>\n",
       "    .dataframe tbody tr th:only-of-type {\n",
       "        vertical-align: middle;\n",
       "    }\n",
       "\n",
       "    .dataframe tbody tr th {\n",
       "        vertical-align: top;\n",
       "    }\n",
       "\n",
       "    .dataframe thead th {\n",
       "        text-align: right;\n",
       "    }\n",
       "</style>\n",
       "<table border=\"1\" class=\"dataframe\">\n",
       "  <thead>\n",
       "    <tr style=\"text-align: right;\">\n",
       "      <th></th>\n",
       "      <th>Unnamed: 0</th>\n",
       "      <th>title</th>\n",
       "      <th>text</th>\n",
       "      <th>fake</th>\n",
       "    </tr>\n",
       "  </thead>\n",
       "  <tbody>\n",
       "    <tr>\n",
       "      <th>0</th>\n",
       "      <td>17366</td>\n",
       "      <td>Merkel: Strong result for Austria's FPO 'big c...</td>\n",
       "      <td>German Chancellor Angela Merkel said on Monday...</td>\n",
       "      <td>0</td>\n",
       "    </tr>\n",
       "    <tr>\n",
       "      <th>1</th>\n",
       "      <td>5634</td>\n",
       "      <td>Trump says Pence will lead voter fraud panel</td>\n",
       "      <td>WEST PALM BEACH, Fla.President Donald Trump sa...</td>\n",
       "      <td>0</td>\n",
       "    </tr>\n",
       "    <tr>\n",
       "      <th>2</th>\n",
       "      <td>17487</td>\n",
       "      <td>JUST IN: SUSPECTED LEAKER and “Close Confidant...</td>\n",
       "      <td>On December 5, 2017, Circa s Sara Carter warne...</td>\n",
       "      <td>1</td>\n",
       "    </tr>\n",
       "    <tr>\n",
       "      <th>3</th>\n",
       "      <td>12217</td>\n",
       "      <td>Thyssenkrupp has offered help to Argentina ove...</td>\n",
       "      <td>Germany s Thyssenkrupp, has offered assistance...</td>\n",
       "      <td>0</td>\n",
       "    </tr>\n",
       "    <tr>\n",
       "      <th>4</th>\n",
       "      <td>5535</td>\n",
       "      <td>Trump say appeals court decision on travel ban...</td>\n",
       "      <td>President Donald Trump on Thursday called the ...</td>\n",
       "      <td>0</td>\n",
       "    </tr>\n",
       "    <tr>\n",
       "      <th>...</th>\n",
       "      <td>...</td>\n",
       "      <td>...</td>\n",
       "      <td>...</td>\n",
       "      <td>...</td>\n",
       "    </tr>\n",
       "    <tr>\n",
       "      <th>22444</th>\n",
       "      <td>10709</td>\n",
       "      <td>ALARMING: NSA Refuses to Release Clinton-Lynch...</td>\n",
       "      <td>If Clinton and Lynch just talked about grandki...</td>\n",
       "      <td>1</td>\n",
       "    </tr>\n",
       "    <tr>\n",
       "      <th>22445</th>\n",
       "      <td>8731</td>\n",
       "      <td>Can Pence's vow not to sling mud survive a Tru...</td>\n",
       "      <td>() - In 1990, during a close and bitter congre...</td>\n",
       "      <td>0</td>\n",
       "    </tr>\n",
       "    <tr>\n",
       "      <th>22446</th>\n",
       "      <td>4733</td>\n",
       "      <td>Watch Trump Campaign Try To Spin Their Way Ou...</td>\n",
       "      <td>A new ad by the Hillary Clinton SuperPac Prior...</td>\n",
       "      <td>1</td>\n",
       "    </tr>\n",
       "    <tr>\n",
       "      <th>22447</th>\n",
       "      <td>3993</td>\n",
       "      <td>Trump celebrates first 100 days as president, ...</td>\n",
       "      <td>HARRISBURG, Pa.U.S. President Donald Trump hit...</td>\n",
       "      <td>0</td>\n",
       "    </tr>\n",
       "    <tr>\n",
       "      <th>22448</th>\n",
       "      <td>12896</td>\n",
       "      <td>TRUMP SUPPORTERS REACT TO DEBATE: “Clinton New...</td>\n",
       "      <td>MELBOURNE, FL is a town with a population of 7...</td>\n",
       "      <td>1</td>\n",
       "    </tr>\n",
       "  </tbody>\n",
       "</table>\n",
       "<p>22449 rows × 4 columns</p>\n",
       "</div>"
      ],
      "text/plain": [
       "       Unnamed: 0                                              title  \\\n",
       "0           17366  Merkel: Strong result for Austria's FPO 'big c...   \n",
       "1            5634       Trump says Pence will lead voter fraud panel   \n",
       "2           17487  JUST IN: SUSPECTED LEAKER and “Close Confidant...   \n",
       "3           12217  Thyssenkrupp has offered help to Argentina ove...   \n",
       "4            5535  Trump say appeals court decision on travel ban...   \n",
       "...           ...                                                ...   \n",
       "22444       10709  ALARMING: NSA Refuses to Release Clinton-Lynch...   \n",
       "22445        8731  Can Pence's vow not to sling mud survive a Tru...   \n",
       "22446        4733   Watch Trump Campaign Try To Spin Their Way Ou...   \n",
       "22447        3993  Trump celebrates first 100 days as president, ...   \n",
       "22448       12896  TRUMP SUPPORTERS REACT TO DEBATE: “Clinton New...   \n",
       "\n",
       "                                                    text  fake  \n",
       "0      German Chancellor Angela Merkel said on Monday...     0  \n",
       "1      WEST PALM BEACH, Fla.President Donald Trump sa...     0  \n",
       "2      On December 5, 2017, Circa s Sara Carter warne...     1  \n",
       "3      Germany s Thyssenkrupp, has offered assistance...     0  \n",
       "4      President Donald Trump on Thursday called the ...     0  \n",
       "...                                                  ...   ...  \n",
       "22444  If Clinton and Lynch just talked about grandki...     1  \n",
       "22445  () - In 1990, during a close and bitter congre...     0  \n",
       "22446  A new ad by the Hillary Clinton SuperPac Prior...     1  \n",
       "22447  HARRISBURG, Pa.U.S. President Donald Trump hit...     0  \n",
       "22448  MELBOURNE, FL is a town with a population of 7...     1  \n",
       "\n",
       "[22449 rows x 4 columns]"
      ]
     },
     "execution_count": 2,
     "metadata": {},
     "output_type": "execute_result"
    }
   ],
   "source": [
    "#importing data\n",
    "train_url = \"https://github.com/PhilChodrow/PIC16b/blob/master/datasets/fake_news_train.csv?raw=true\"\n",
    "train_data = pd.read_csv(train_url)\n",
    "train_data"
   ]
  },
  {
   "cell_type": "markdown",
   "metadata": {},
   "source": [
    "## Make Datasets\n",
    "\n",
    "Write a function called `make_dataset`. This function should do four things:\n",
    "\n",
    "1. Change the text to lowercase.\n",
    "\n",
    "2. Remove stopwords from the article text and title. A stopword is a word that is usually considered to be uninformative, such as “the,” “and,” or “but.” You may find this StackOverFlow thread to be helpful.\n",
    "\n",
    "3. Construct and return a tf.data.Dataset with two inputs and one output. The input should be of the form (title, text), and the output should consist only of the fake column. You may find it helpful to consult lecture notes or this tutorial for reference on how to construct and use Datasets with multiple inputs.\n",
    "\n",
    "Helpful resources:\n",
    "1. Lower case: https://saturncloud.io/blog/how-to-lowercase-a-pandas-dataframe-string-column-if-it-has-missing-values/\n",
    "\n",
    "2. Remove stopwords: https://stackoverflow.com/questions/29523254/python-remove-stop-words-from-pandas-dataframe. You need to install nltk library. If you do not want to install it, you can use Google colab.\n",
    "\n",
    "3. Tensorflow dataset with multiple inputs and set batch: https://stackoverflow.com/questions/52582275/tf-data-with-multiple-inputs-outputs-in-keras."
   ]
  },
  {
   "cell_type": "code",
   "execution_count": 3,
   "metadata": {},
   "outputs": [
    {
     "name": "stderr",
     "output_type": "stream",
     "text": [
      "[nltk_data] Downloading package stopwords to /Users/T/nltk_data...\n",
      "[nltk_data]   Package stopwords is already up-to-date!\n"
     ]
    }
   ],
   "source": [
    "# download stopwords\n",
    "nltk.download('stopwords')\n",
    "stop_words = set(stopwords.words())"
   ]
  },
  {
   "cell_type": "code",
   "execution_count": 4,
   "metadata": {},
   "outputs": [],
   "source": [
    "# Function to preprocess text\n",
    "def preprocess_text(text):\n",
    "    \"\"\"\n",
    "    Function that converts text to lower case and split the words to remove stopwords\n",
    "    \n",
    "    Args:\n",
    "    - text (string): input words for processing\n",
    "\n",
    "    Return: \n",
    "    - text (string): processed words after removing stop words\n",
    "    \"\"\"\n",
    "    text = str(text).lower()\n",
    "    text_split = text.split()\n",
    "    #remove words in the stop_words list\n",
    "    text_split = [word for word in text_split if word not in stop_words]\n",
    "    \n",
    "    return ' '.join(text_split)"
   ]
  },
  {
   "cell_type": "code",
   "execution_count": 5,
   "metadata": {},
   "outputs": [],
   "source": [
    "#apply preprocessing to the data set\n",
    "train_data['title'] = train_data['title'].apply(preprocess_text)\n",
    "train_data['text'] = train_data['text'].apply(preprocess_text)"
   ]
  },
  {
   "cell_type": "markdown",
   "metadata": {},
   "source": [
    "## Train test split:\n",
    "\n",
    "Write a function `train_test_split` to do train test split for any tensorflow dataset. The passing arguement should be the training size.\n",
    "\n",
    "\n",
    "Then, you should use your function to do train_test split and the trainning size is 80% of your dataset. "
   ]
  },
  {
   "cell_type": "code",
   "execution_count": 6,
   "metadata": {},
   "outputs": [],
   "source": [
    "#function to create tensorflow data set\n",
    "def make_dataset(df):\n",
    "    \"\"\"\n",
    "    Creates a TensorFlow dataset from DataFrame containing news articles\n",
    "\n",
    "    Args:\n",
    "    - df (pd DataFrame): DataFrame containing text data\n",
    "\n",
    "    Returns:\n",
    "    - tf.data.Dataset: TensorFlow dataset containing data in ((title, text), label) format\n",
    "    \"\"\"\n",
    "    titles, texts, labels = df['title'].values, df['text'].values, df['fake'].values\n",
    "\n",
    "    dataset = tf.data.Dataset.from_tensor_slices(((titles, texts), labels))\n",
    "    return dataset\n",
    "\n",
    "#create dataset\n",
    "train_data_tf = make_dataset(train_data)\n",
    "\n",
    "#put data into batches\n",
    "train_data_tf = train_data_tf.batch(32)\n",
    "\n",
    "# Function to split the dataset\n",
    "def train_test_split(dataset, train_size):\n",
    "    \"\"\"\n",
    "    Splits dataset into training and testing\n",
    "\n",
    "    Args:\n",
    "    - dataset (tf.data.Dataset): The input dataset to be split\n",
    "    - train_size (float): The proportion of the data in the training set\n",
    "\n",
    "    Returns:\n",
    "    - tuple: A tuple containing (train_dataset (tf.data.Dataset),test_dataset (tf.data.Dataset)\n",
    "    \"\"\"\n",
    "    # Count number of training samples\n",
    "    dataset_size = len(list(dataset))\n",
    "    train_size = int(train_size * dataset_size)\n",
    "\n",
    "    # Shuffle the dataset\n",
    "    dataset = dataset.shuffle(buffer_size=dataset_size)\n",
    "\n",
    "    # Split the dataset into train and test\n",
    "    train_dataset = dataset.take(train_size)\n",
    "    test_dataset = dataset.skip(train_size)\n",
    "\n",
    "    return train_dataset, test_dataset"
   ]
  },
  {
   "cell_type": "code",
   "execution_count": 7,
   "metadata": {},
   "outputs": [
    {
     "name": "stderr",
     "output_type": "stream",
     "text": [
      "2024-05-26 15:32:27.562311: W tensorflow/core/framework/local_rendezvous.cc:404] Local rendezvous is aborting with status: OUT_OF_RANGE: End of sequence\n"
     ]
    }
   ],
   "source": [
    "# Apply the function to split the data\n",
    "train_dataset, test_dataset = train_test_split(train_data_tf, 0.8)"
   ]
  },
  {
   "cell_type": "markdown",
   "metadata": {},
   "source": [
    "## Text vectorization\n",
    "\n",
    "Here is one option:\n",
    "\n",
    "    #preparing a text vectorization layer for tf model\n",
    "    size_vocabulary = 2000\n",
    "\n",
    "    def standardization(input_data):\n",
    "        lowercase = tf.strings.lower(input_data)\n",
    "        no_punctuation = tf.strings.regex_replace(lowercase,\n",
    "                                  '[%s]' % re.escape(string.punctuation),'')\n",
    "        return no_punctuation \n",
    "\n",
    "    title_vectorize_layer = TextVectorization(\n",
    "        standardize=standardization,\n",
    "        max_tokens=size_vocabulary, # only consider this many words\n",
    "        output_mode='int',\n",
    "        output_sequence_length=500) \n",
    "\n",
    "    title_vectorize_layer.adapt(train.map(lambda x, y: x[\"title\"]))\n",
    "    \n",
    "You can also use your preferred vectorization, e.g. text vectorization. You are also welcome to change the parameters such as `size_vocabulary` and `output_sequence_length`. \n",
    "\n"
   ]
  },
  {
   "cell_type": "code",
   "execution_count": 8,
   "metadata": {},
   "outputs": [
    {
     "name": "stderr",
     "output_type": "stream",
     "text": [
      "2024-05-26 15:32:28.111452: W tensorflow/core/framework/local_rendezvous.cc:404] Local rendezvous is aborting with status: OUT_OF_RANGE: End of sequence\n",
      "2024-05-26 15:32:29.180764: W tensorflow/core/framework/local_rendezvous.cc:404] Local rendezvous is aborting with status: OUT_OF_RANGE: End of sequence\n"
     ]
    }
   ],
   "source": [
    "#prepare text vectorization layer for tf model\n",
    "max_tokens = 2000\n",
    "embed_dim = 100\n",
    "sequence_length = 800\n",
    "\n",
    "#standarization function\n",
    "def standardization(input_data):\n",
    "    \"\"\"\n",
    "    Standardize input data\n",
    "\n",
    "    Args:\n",
    "    - dataset (tf.data.Dataset): The input dataset to be standarized\n",
    "\n",
    "    Returns:\n",
    "    - dataset (tf.data.Dataset): dataset after removing punctuation and changed to lower case\n",
    "    \"\"\"\n",
    "    # removing capitals\n",
    "    lowercase = tf.strings.lower(input_data)\n",
    "    # Removing punctuation\n",
    "    no_punctuation = tf.strings.regex_replace(lowercase, '[%s]' % re.escape(string.punctuation), '')\n",
    "    return no_punctuation \n",
    "\n",
    "#title vectorize layer\n",
    "title_vectorize_layer = TextVectorization(\n",
    "    standardize=standardization,\n",
    "    max_tokens=max_tokens,\n",
    "    output_mode='int',\n",
    "    output_sequence_length=sequence_length)\n",
    "\n",
    "#text vectorize layer\n",
    "text_vectorize_layer = TextVectorization(\n",
    "    standardize=standardization,\n",
    "    max_tokens=max_tokens,\n",
    "    output_mode='int',\n",
    "    output_sequence_length=sequence_length)\n",
    "\n",
    "# Adapt vectorization layers\n",
    "title_vectorize_layer.adapt(train_dataset.map(lambda x, y: x[0]))\n",
    "text_vectorize_layer.adapt(train_dataset.map(lambda x, y: x[1]))"
   ]
  },
  {
   "cell_type": "markdown",
   "metadata": {},
   "source": [
    "## Create Models\n",
    "\n",
    "Please use Keras models to offer a perspective on the following question:\n",
    "\n",
    "`When detecting fake news, is it most effective to focus on only the title of the article, the full text of the article, or both?`\n",
    "To address this question, create three (3) Keras models.\n",
    "\n",
    "In the first model, you should use only the article title as an input.\n",
    "\n",
    "In the second model, you should use only the article text as an input.\n",
    "\n",
    "In the third model, you should use both the article title and the article text as input.\n",
    "\n",
    "Train your models on the training data until they appear to be “fully” trained. Assess and compare their performance. Make sure to include a visualization of the training histories.\n",
    "\n",
    "\n",
    "## Notes:\n",
    "\n",
    "1. For the first two models, you don’t have to create new Datasets. Instead, just specify the inputs to the keras.Model appropriately, and Keras will automatically ignore the unused inputs in the Dataset.\n",
    "\n",
    "2. The lecture notes and tutorials linked above are likely to be helpful as you are creating your models as well.\n",
    "\n",
    "3. You will need to use the Functional API, rather than the Sequential API, for this modeling task.\n",
    "\n",
    "4. When using the Functional API, it is possible to use the same layer in multiple parts of your model; see this [tutorial](https://keras.io/guides/functional_api/) for examples. I recommended that you share a text vectorization layer and an embedding layer for both the article title and text inputs.\n",
    "    \n",
    "    Note: Do not use the shared embedding layer with separate text vectorization layers. If you do so, you will be embedding two different words on the same coordinate.\n",
    "\n",
    "5. You may encounter overfitting, in which case Dropout layers can help.\n",
    "\n",
    "You’re free to be creative when designing your models. If you’re feeling very stuck, start with some of the pipelines for processing text that we’ve seen in lecture, and iterate from there. Please include in your discussion some of the things that you tried and how you determined the models you used."
   ]
  },
  {
   "cell_type": "code",
   "execution_count": 9,
   "metadata": {},
   "outputs": [
    {
     "name": "stdout",
     "output_type": "stream",
     "text": [
      "WARNING:tensorflow:AutoGraph could not transform <function <lambda> at 0x310ff0540> and will run it as-is.\n",
      "Cause: could not parse the source code of <function <lambda> at 0x310ff0540>: found multiple definitions with identical signatures at the location. This error may be avoided by defining each lambda on a single line and with unique argument names. The matching definitions were:\n",
      "Match 0:\n",
      "lambda x, y: (x[0], y)\n",
      "\n",
      "Match 1:\n",
      "lambda x, y: (x[0], y)\n",
      "\n",
      "To silence this warning, decorate the function with @tf.autograph.experimental.do_not_convert\n",
      "WARNING: AutoGraph could not transform <function <lambda> at 0x310ff0540> and will run it as-is.\n",
      "Cause: could not parse the source code of <function <lambda> at 0x310ff0540>: found multiple definitions with identical signatures at the location. This error may be avoided by defining each lambda on a single line and with unique argument names. The matching definitions were:\n",
      "Match 0:\n",
      "lambda x, y: (x[0], y)\n",
      "\n",
      "Match 1:\n",
      "lambda x, y: (x[0], y)\n",
      "\n",
      "To silence this warning, decorate the function with @tf.autograph.experimental.do_not_convert\n",
      "WARNING:tensorflow:AutoGraph could not transform <function <lambda> at 0x310ff0c20> and will run it as-is.\n",
      "Cause: could not parse the source code of <function <lambda> at 0x310ff0c20>: found multiple definitions with identical signatures at the location. This error may be avoided by defining each lambda on a single line and with unique argument names. The matching definitions were:\n",
      "Match 0:\n",
      "lambda x, y: (x[0], y)\n",
      "\n",
      "Match 1:\n",
      "lambda x, y: (x[0], y)\n",
      "\n",
      "To silence this warning, decorate the function with @tf.autograph.experimental.do_not_convert\n",
      "WARNING: AutoGraph could not transform <function <lambda> at 0x310ff0c20> and will run it as-is.\n",
      "Cause: could not parse the source code of <function <lambda> at 0x310ff0c20>: found multiple definitions with identical signatures at the location. This error may be avoided by defining each lambda on a single line and with unique argument names. The matching definitions were:\n",
      "Match 0:\n",
      "lambda x, y: (x[0], y)\n",
      "\n",
      "Match 1:\n",
      "lambda x, y: (x[0], y)\n",
      "\n",
      "To silence this warning, decorate the function with @tf.autograph.experimental.do_not_convert\n",
      "Epoch 1/20\n"
     ]
    },
    {
     "name": "stderr",
     "output_type": "stream",
     "text": [
      "2024-05-26 15:32:29.783007: W tensorflow/core/framework/local_rendezvous.cc:404] Local rendezvous is aborting with status: OUT_OF_RANGE: End of sequence\n"
     ]
    },
    {
     "name": "stdout",
     "output_type": "stream",
     "text": [
      "\u001b[1m561/561\u001b[0m \u001b[32m━━━━━━━━━━━━━━━━━━━━\u001b[0m\u001b[37m\u001b[0m \u001b[1m1s\u001b[0m 566us/step - accuracy: 0.6676 - loss: 0.6670 - val_accuracy: 0.7773 - val_loss: 0.5575\n",
      "Epoch 2/20\n",
      "\u001b[1m561/561\u001b[0m \u001b[32m━━━━━━━━━━━━━━━━━━━━\u001b[0m\u001b[37m\u001b[0m \u001b[1m0s\u001b[0m 454us/step - accuracy: 0.7655 - loss: 0.5352 - val_accuracy: 0.7963 - val_loss: 0.4758\n",
      "Epoch 3/20\n",
      "\u001b[1m561/561\u001b[0m \u001b[32m━━━━━━━━━━━━━━━━━━━━\u001b[0m\u001b[37m\u001b[0m \u001b[1m0s\u001b[0m 449us/step - accuracy: 0.8008 - loss: 0.4597 - val_accuracy: 0.8592 - val_loss: 0.3837\n",
      "Epoch 4/20\n",
      "\u001b[1m561/561\u001b[0m \u001b[32m━━━━━━━━━━━━━━━━━━━━\u001b[0m\u001b[37m\u001b[0m \u001b[1m0s\u001b[0m 454us/step - accuracy: 0.8345 - loss: 0.4036 - val_accuracy: 0.8814 - val_loss: 0.3259\n",
      "Epoch 5/20\n",
      "\u001b[1m561/561\u001b[0m \u001b[32m━━━━━━━━━━━━━━━━━━━━\u001b[0m\u001b[37m\u001b[0m \u001b[1m0s\u001b[0m 451us/step - accuracy: 0.8706 - loss: 0.3414 - val_accuracy: 0.8996 - val_loss: 0.2914\n",
      "Epoch 6/20\n",
      "\u001b[1m561/561\u001b[0m \u001b[32m━━━━━━━━━━━━━━━━━━━━\u001b[0m\u001b[37m\u001b[0m \u001b[1m0s\u001b[0m 503us/step - accuracy: 0.8887 - loss: 0.3070 - val_accuracy: 0.9122 - val_loss: 0.2568\n",
      "Epoch 7/20\n",
      "\u001b[1m561/561\u001b[0m \u001b[32m━━━━━━━━━━━━━━━━━━━━\u001b[0m\u001b[37m\u001b[0m \u001b[1m0s\u001b[0m 450us/step - accuracy: 0.9038 - loss: 0.2725 - val_accuracy: 0.9215 - val_loss: 0.2301\n",
      "Epoch 8/20\n",
      "\u001b[1m561/561\u001b[0m \u001b[32m━━━━━━━━━━━━━━━━━━━━\u001b[0m\u001b[37m\u001b[0m \u001b[1m0s\u001b[0m 453us/step - accuracy: 0.9142 - loss: 0.2463 - val_accuracy: 0.9178 - val_loss: 0.2179\n",
      "Epoch 9/20\n",
      "\u001b[1m561/561\u001b[0m \u001b[32m━━━━━━━━━━━━━━━━━━━━\u001b[0m\u001b[37m\u001b[0m \u001b[1m0s\u001b[0m 447us/step - accuracy: 0.9192 - loss: 0.2288 - val_accuracy: 0.9264 - val_loss: 0.1969\n",
      "Epoch 10/20\n",
      "\u001b[1m561/561\u001b[0m \u001b[32m━━━━━━━━━━━━━━━━━━━━\u001b[0m\u001b[37m\u001b[0m \u001b[1m0s\u001b[0m 448us/step - accuracy: 0.9202 - loss: 0.2196 - val_accuracy: 0.9322 - val_loss: 0.1858\n",
      "Epoch 11/20\n",
      "\u001b[1m561/561\u001b[0m \u001b[32m━━━━━━━━━━━━━━━━━━━━\u001b[0m\u001b[37m\u001b[0m \u001b[1m0s\u001b[0m 451us/step - accuracy: 0.9260 - loss: 0.2039 - val_accuracy: 0.9331 - val_loss: 0.1835\n",
      "Epoch 12/20\n",
      "\u001b[1m561/561\u001b[0m \u001b[32m━━━━━━━━━━━━━━━━━━━━\u001b[0m\u001b[37m\u001b[0m \u001b[1m0s\u001b[0m 454us/step - accuracy: 0.9309 - loss: 0.1968 - val_accuracy: 0.9413 - val_loss: 0.1614\n",
      "Epoch 13/20\n",
      "\u001b[1m561/561\u001b[0m \u001b[32m━━━━━━━━━━━━━━━━━━━━\u001b[0m\u001b[37m\u001b[0m \u001b[1m0s\u001b[0m 450us/step - accuracy: 0.9314 - loss: 0.1920 - val_accuracy: 0.9402 - val_loss: 0.1583\n",
      "Epoch 14/20\n",
      "\u001b[1m561/561\u001b[0m \u001b[32m━━━━━━━━━━━━━━━━━━━━\u001b[0m\u001b[37m\u001b[0m \u001b[1m0s\u001b[0m 450us/step - accuracy: 0.9270 - loss: 0.1877 - val_accuracy: 0.9424 - val_loss: 0.1541\n",
      "Epoch 15/20\n",
      "\u001b[1m561/561\u001b[0m \u001b[32m━━━━━━━━━━━━━━━━━━━━\u001b[0m\u001b[37m\u001b[0m \u001b[1m0s\u001b[0m 506us/step - accuracy: 0.9300 - loss: 0.1765 - val_accuracy: 0.9444 - val_loss: 0.1510\n",
      "Epoch 16/20\n",
      "\u001b[1m561/561\u001b[0m \u001b[32m━━━━━━━━━━━━━━━━━━━━\u001b[0m\u001b[37m\u001b[0m \u001b[1m0s\u001b[0m 501us/step - accuracy: 0.9312 - loss: 0.1778 - val_accuracy: 0.9475 - val_loss: 0.1375\n",
      "Epoch 17/20\n",
      "\u001b[1m561/561\u001b[0m \u001b[32m━━━━━━━━━━━━━━━━━━━━\u001b[0m\u001b[37m\u001b[0m \u001b[1m0s\u001b[0m 452us/step - accuracy: 0.9375 - loss: 0.1704 - val_accuracy: 0.9488 - val_loss: 0.1390\n",
      "Epoch 18/20\n",
      "\u001b[1m561/561\u001b[0m \u001b[32m━━━━━━━━━━━━━━━━━━━━\u001b[0m\u001b[37m\u001b[0m \u001b[1m0s\u001b[0m 455us/step - accuracy: 0.9303 - loss: 0.1740 - val_accuracy: 0.9466 - val_loss: 0.1401\n",
      "Epoch 19/20\n",
      "\u001b[1m561/561\u001b[0m \u001b[32m━━━━━━━━━━━━━━━━━━━━\u001b[0m\u001b[37m\u001b[0m \u001b[1m0s\u001b[0m 466us/step - accuracy: 0.9365 - loss: 0.1638 - val_accuracy: 0.9517 - val_loss: 0.1373\n",
      "Epoch 20/20\n",
      "\u001b[1m561/561\u001b[0m \u001b[32m━━━━━━━━━━━━━━━━━━━━\u001b[0m\u001b[37m\u001b[0m \u001b[1m0s\u001b[0m 449us/step - accuracy: 0.9404 - loss: 0.1560 - val_accuracy: 0.9484 - val_loss: 0.1390\n"
     ]
    }
   ],
   "source": [
    "#Model 1: only the title\n",
    "title_vectorize_layer = tf.keras.layers.TextVectorization(max_tokens=max_tokens, output_mode='int')\n",
    "title_vectorize_layer.adapt(train_dataset.map(lambda x, y: x[0]))\n",
    "\n",
    "# Create and compile the model\n",
    "model_title = tf.keras.Sequential([\n",
    "    layers.Input(shape=(1,), dtype=tf.string),\n",
    "    title_vectorize_layer,\n",
    "    layers.Embedding(max_tokens, output_dim=3), \n",
    "    layers.Dropout(0.2),\n",
    "    layers.GlobalAveragePooling1D(), \n",
    "    layers.Dropout(0.2),\n",
    "    layers.Dense(1, activation='sigmoid')\n",
    "])\n",
    "\n",
    "model_title.compile(optimizer='adam', loss='binary_crossentropy', metrics=['accuracy'])\n",
    "\n",
    "#train the model\n",
    "title_only = model_title.fit(train_dataset.map(lambda x, y: (x[0], y)), epochs=20, validation_data=test_dataset.map(lambda x, y: (x[0], y)))\n"
   ]
  },
  {
   "cell_type": "code",
   "execution_count": 10,
   "metadata": {},
   "outputs": [
    {
     "name": "stdout",
     "output_type": "stream",
     "text": [
      "WARNING:tensorflow:AutoGraph could not transform <function <lambda> at 0x311961da0> and will run it as-is.\n",
      "Cause: could not parse the source code of <function <lambda> at 0x311961da0>: found multiple definitions with identical signatures at the location. This error may be avoided by defining each lambda on a single line and with unique argument names. The matching definitions were:\n",
      "Match 0:\n",
      "lambda x, y: (x[1], y)\n",
      "\n",
      "Match 1:\n",
      "lambda x, y: (x[1], y)\n",
      "\n",
      "To silence this warning, decorate the function with @tf.autograph.experimental.do_not_convert\n",
      "WARNING: AutoGraph could not transform <function <lambda> at 0x311961da0> and will run it as-is.\n",
      "Cause: could not parse the source code of <function <lambda> at 0x311961da0>: found multiple definitions with identical signatures at the location. This error may be avoided by defining each lambda on a single line and with unique argument names. The matching definitions were:\n",
      "Match 0:\n",
      "lambda x, y: (x[1], y)\n",
      "\n",
      "Match 1:\n",
      "lambda x, y: (x[1], y)\n",
      "\n",
      "To silence this warning, decorate the function with @tf.autograph.experimental.do_not_convert\n",
      "WARNING:tensorflow:AutoGraph could not transform <function <lambda> at 0x3119627a0> and will run it as-is.\n",
      "Cause: could not parse the source code of <function <lambda> at 0x3119627a0>: found multiple definitions with identical signatures at the location. This error may be avoided by defining each lambda on a single line and with unique argument names. The matching definitions were:\n",
      "Match 0:\n",
      "lambda x, y: (x[1], y)\n",
      "\n",
      "Match 1:\n",
      "lambda x, y: (x[1], y)\n",
      "\n",
      "To silence this warning, decorate the function with @tf.autograph.experimental.do_not_convert\n",
      "WARNING: AutoGraph could not transform <function <lambda> at 0x3119627a0> and will run it as-is.\n",
      "Cause: could not parse the source code of <function <lambda> at 0x3119627a0>: found multiple definitions with identical signatures at the location. This error may be avoided by defining each lambda on a single line and with unique argument names. The matching definitions were:\n",
      "Match 0:\n",
      "lambda x, y: (x[1], y)\n",
      "\n",
      "Match 1:\n",
      "lambda x, y: (x[1], y)\n",
      "\n",
      "To silence this warning, decorate the function with @tf.autograph.experimental.do_not_convert\n",
      "Epoch 1/20\n"
     ]
    },
    {
     "name": "stderr",
     "output_type": "stream",
     "text": [
      "2024-05-26 15:32:37.002911: W tensorflow/core/framework/local_rendezvous.cc:404] Local rendezvous is aborting with status: OUT_OF_RANGE: End of sequence\n"
     ]
    },
    {
     "name": "stdout",
     "output_type": "stream",
     "text": [
      "\u001b[1m561/561\u001b[0m \u001b[32m━━━━━━━━━━━━━━━━━━━━\u001b[0m\u001b[37m\u001b[0m \u001b[1m2s\u001b[0m 2ms/step - accuracy: 0.5100 - loss: 0.6911 - val_accuracy: 0.6432 - val_loss: 0.6814\n",
      "Epoch 2/20\n",
      "\u001b[1m561/561\u001b[0m \u001b[32m━━━━━━━━━━━━━━━━━━━━\u001b[0m\u001b[37m\u001b[0m \u001b[1m1s\u001b[0m 2ms/step - accuracy: 0.5881 - loss: 0.6750 - val_accuracy: 0.6239 - val_loss: 0.6417\n",
      "Epoch 3/20\n",
      "\u001b[1m561/561\u001b[0m \u001b[32m━━━━━━━━━━━━━━━━━━━━\u001b[0m\u001b[37m\u001b[0m \u001b[1m1s\u001b[0m 2ms/step - accuracy: 0.7108 - loss: 0.6320 - val_accuracy: 0.8546 - val_loss: 0.5824\n",
      "Epoch 4/20\n",
      "\u001b[1m561/561\u001b[0m \u001b[32m━━━━━━━━━━━━━━━━━━━━\u001b[0m\u001b[37m\u001b[0m \u001b[1m1s\u001b[0m 2ms/step - accuracy: 0.7727 - loss: 0.5701 - val_accuracy: 0.9202 - val_loss: 0.5081\n",
      "Epoch 5/20\n",
      "\u001b[1m561/561\u001b[0m \u001b[32m━━━━━━━━━━━━━━━━━━━━\u001b[0m\u001b[37m\u001b[0m \u001b[1m1s\u001b[0m 2ms/step - accuracy: 0.8007 - loss: 0.5169 - val_accuracy: 0.9087 - val_loss: 0.4563\n",
      "Epoch 6/20\n",
      "\u001b[1m561/561\u001b[0m \u001b[32m━━━━━━━━━━━━━━━━━━━━\u001b[0m\u001b[37m\u001b[0m \u001b[1m1s\u001b[0m 2ms/step - accuracy: 0.8253 - loss: 0.4715 - val_accuracy: 0.9018 - val_loss: 0.4008\n",
      "Epoch 7/20\n",
      "\u001b[1m561/561\u001b[0m \u001b[32m━━━━━━━━━━━━━━━━━━━━\u001b[0m\u001b[37m\u001b[0m \u001b[1m1s\u001b[0m 2ms/step - accuracy: 0.8437 - loss: 0.4338 - val_accuracy: 0.8932 - val_loss: 0.3810\n",
      "Epoch 8/20\n",
      "\u001b[1m561/561\u001b[0m \u001b[32m━━━━━━━━━━━━━━━━━━━━\u001b[0m\u001b[37m\u001b[0m \u001b[1m1s\u001b[0m 2ms/step - accuracy: 0.8468 - loss: 0.4114 - val_accuracy: 0.9122 - val_loss: 0.3519\n",
      "Epoch 9/20\n",
      "\u001b[1m561/561\u001b[0m \u001b[32m━━━━━━━━━━━━━━━━━━━━\u001b[0m\u001b[37m\u001b[0m \u001b[1m1s\u001b[0m 2ms/step - accuracy: 0.8548 - loss: 0.3864 - val_accuracy: 0.9140 - val_loss: 0.3200\n",
      "Epoch 10/20\n",
      "\u001b[1m561/561\u001b[0m \u001b[32m━━━━━━━━━━━━━━━━━━━━\u001b[0m\u001b[37m\u001b[0m \u001b[1m1s\u001b[0m 2ms/step - accuracy: 0.8608 - loss: 0.3676 - val_accuracy: 0.9324 - val_loss: 0.3032\n",
      "Epoch 11/20\n",
      "\u001b[1m561/561\u001b[0m \u001b[32m━━━━━━━━━━━━━━━━━━━━\u001b[0m\u001b[37m\u001b[0m \u001b[1m1s\u001b[0m 2ms/step - accuracy: 0.8582 - loss: 0.3546 - val_accuracy: 0.9473 - val_loss: 0.2869\n",
      "Epoch 12/20\n",
      "\u001b[1m561/561\u001b[0m \u001b[32m━━━━━━━━━━━━━━━━━━━━\u001b[0m\u001b[37m\u001b[0m \u001b[1m2s\u001b[0m 3ms/step - accuracy: 0.8680 - loss: 0.3326 - val_accuracy: 0.9271 - val_loss: 0.2708\n",
      "Epoch 13/20\n",
      "\u001b[1m561/561\u001b[0m \u001b[32m━━━━━━━━━━━━━━━━━━━━\u001b[0m\u001b[37m\u001b[0m \u001b[1m1s\u001b[0m 3ms/step - accuracy: 0.8707 - loss: 0.3278 - val_accuracy: 0.9515 - val_loss: 0.2417\n",
      "Epoch 14/20\n",
      "\u001b[1m561/561\u001b[0m \u001b[32m━━━━━━━━━━━━━━━━━━━━\u001b[0m\u001b[37m\u001b[0m \u001b[1m1s\u001b[0m 3ms/step - accuracy: 0.8744 - loss: 0.3151 - val_accuracy: 0.9546 - val_loss: 0.2502\n",
      "Epoch 15/20\n",
      "\u001b[1m561/561\u001b[0m \u001b[32m━━━━━━━━━━━━━━━━━━━━\u001b[0m\u001b[37m\u001b[0m \u001b[1m1s\u001b[0m 2ms/step - accuracy: 0.8723 - loss: 0.3053 - val_accuracy: 0.9340 - val_loss: 0.2364\n",
      "Epoch 16/20\n",
      "\u001b[1m561/561\u001b[0m \u001b[32m━━━━━━━━━━━━━━━━━━━━\u001b[0m\u001b[37m\u001b[0m \u001b[1m1s\u001b[0m 2ms/step - accuracy: 0.8709 - loss: 0.3007 - val_accuracy: 0.9530 - val_loss: 0.2240\n",
      "Epoch 17/20\n",
      "\u001b[1m561/561\u001b[0m \u001b[32m━━━━━━━━━━━━━━━━━━━━\u001b[0m\u001b[37m\u001b[0m \u001b[1m1s\u001b[0m 3ms/step - accuracy: 0.8813 - loss: 0.2905 - val_accuracy: 0.9488 - val_loss: 0.2130\n",
      "Epoch 18/20\n",
      "\u001b[1m561/561\u001b[0m \u001b[32m━━━━━━━━━━━━━━━━━━━━\u001b[0m\u001b[37m\u001b[0m \u001b[1m1s\u001b[0m 3ms/step - accuracy: 0.8816 - loss: 0.2864 - val_accuracy: 0.9559 - val_loss: 0.1995\n",
      "Epoch 19/20\n",
      "\u001b[1m561/561\u001b[0m \u001b[32m━━━━━━━━━━━━━━━━━━━━\u001b[0m\u001b[37m\u001b[0m \u001b[1m1s\u001b[0m 2ms/step - accuracy: 0.8718 - loss: 0.2892 - val_accuracy: 0.9639 - val_loss: 0.1879\n",
      "Epoch 20/20\n",
      "\u001b[1m561/561\u001b[0m \u001b[32m━━━━━━━━━━━━━━━━━━━━\u001b[0m\u001b[37m\u001b[0m \u001b[1m1s\u001b[0m 2ms/step - accuracy: 0.8825 - loss: 0.2751 - val_accuracy: 0.9497 - val_loss: 0.1804\n"
     ]
    }
   ],
   "source": [
    "#Model 2: only the text\n",
    "text_vectorize_layer = tf.keras.layers.TextVectorization(max_tokens=max_tokens, output_mode='int')\n",
    "text_vectorize_layer.adapt(train_dataset.map(lambda x, y: x[1]))\n",
    "\n",
    "# Create and compile the model\n",
    "model_text = tf.keras.Sequential([\n",
    "    layers.Input(shape=(1,), dtype=tf.string),\n",
    "    text_vectorize_layer,\n",
    "    layers.Embedding(max_tokens, output_dim=3), \n",
    "    layers.Dropout(0.5),\n",
    "    layers.GlobalAveragePooling1D(), \n",
    "    layers.Dropout(0.5),\n",
    "    layers.Dense(1, activation='sigmoid')\n",
    "])\n",
    "\n",
    "#complie the model\n",
    "model_text.compile(optimizer='adam', loss='binary_crossentropy', metrics=['accuracy'])\n",
    "\n",
    "# Train the model\n",
    "text_only = model_text.fit(train_dataset.map(lambda x, y: (x[1], y)), epochs=20, validation_data=test_dataset.map(lambda x, y: (x[1], y)))"
   ]
  },
  {
   "cell_type": "code",
   "execution_count": 11,
   "metadata": {},
   "outputs": [
    {
     "name": "stderr",
     "output_type": "stream",
     "text": [
      "2024-05-26 15:33:05.885733: W tensorflow/core/framework/local_rendezvous.cc:404] Local rendezvous is aborting with status: OUT_OF_RANGE: End of sequence\n"
     ]
    },
    {
     "name": "stdout",
     "output_type": "stream",
     "text": [
      "Epoch 1/20\n"
     ]
    },
    {
     "name": "stderr",
     "output_type": "stream",
     "text": [
      "2024-05-26 15:33:07.028898: W tensorflow/core/framework/local_rendezvous.cc:404] Local rendezvous is aborting with status: OUT_OF_RANGE: End of sequence\n"
     ]
    },
    {
     "name": "stdout",
     "output_type": "stream",
     "text": [
      "\u001b[1m561/561\u001b[0m \u001b[32m━━━━━━━━━━━━━━━━━━━━\u001b[0m\u001b[37m\u001b[0m \u001b[1m2s\u001b[0m 2ms/step - accuracy: 0.6319 - loss: 0.6577 - val_accuracy: 0.8019 - val_loss: 0.5364\n",
      "Epoch 2/20\n",
      "\u001b[1m561/561\u001b[0m \u001b[32m━━━━━━━━━━━━━━━━━━━━\u001b[0m\u001b[37m\u001b[0m \u001b[1m1s\u001b[0m 2ms/step - accuracy: 0.7686 - loss: 0.5298 - val_accuracy: 0.8564 - val_loss: 0.4287\n",
      "Epoch 3/20\n",
      "\u001b[1m561/561\u001b[0m \u001b[32m━━━━━━━━━━━━━━━━━━━━\u001b[0m\u001b[37m\u001b[0m \u001b[1m1s\u001b[0m 2ms/step - accuracy: 0.8338 - loss: 0.4366 - val_accuracy: 0.8941 - val_loss: 0.3376\n",
      "Epoch 4/20\n",
      "\u001b[1m561/561\u001b[0m \u001b[32m━━━━━━━━━━━━━━━━━━━━\u001b[0m\u001b[37m\u001b[0m \u001b[1m1s\u001b[0m 2ms/step - accuracy: 0.8770 - loss: 0.3608 - val_accuracy: 0.9238 - val_loss: 0.2730\n",
      "Epoch 5/20\n",
      "\u001b[1m561/561\u001b[0m \u001b[32m━━━━━━━━━━━━━━━━━━━━\u001b[0m\u001b[37m\u001b[0m \u001b[1m1s\u001b[0m 2ms/step - accuracy: 0.9038 - loss: 0.3022 - val_accuracy: 0.9479 - val_loss: 0.2156\n",
      "Epoch 6/20\n",
      "\u001b[1m561/561\u001b[0m \u001b[32m━━━━━━━━━━━━━━━━━━━━\u001b[0m\u001b[37m\u001b[0m \u001b[1m1s\u001b[0m 2ms/step - accuracy: 0.9190 - loss: 0.2595 - val_accuracy: 0.9530 - val_loss: 0.1855\n",
      "Epoch 7/20\n",
      "\u001b[1m561/561\u001b[0m \u001b[32m━━━━━━━━━━━━━━━━━━━━\u001b[0m\u001b[37m\u001b[0m \u001b[1m1s\u001b[0m 2ms/step - accuracy: 0.9361 - loss: 0.2270 - val_accuracy: 0.9566 - val_loss: 0.1644\n",
      "Epoch 8/20\n",
      "\u001b[1m561/561\u001b[0m \u001b[32m━━━━━━━━━━━━━━━━━━━━\u001b[0m\u001b[37m\u001b[0m \u001b[1m1s\u001b[0m 2ms/step - accuracy: 0.9348 - loss: 0.2063 - val_accuracy: 0.9575 - val_loss: 0.1497\n",
      "Epoch 9/20\n",
      "\u001b[1m561/561\u001b[0m \u001b[32m━━━━━━━━━━━━━━━━━━━━\u001b[0m\u001b[37m\u001b[0m \u001b[1m1s\u001b[0m 2ms/step - accuracy: 0.9442 - loss: 0.1839 - val_accuracy: 0.9661 - val_loss: 0.1242\n",
      "Epoch 10/20\n",
      "\u001b[1m561/561\u001b[0m \u001b[32m━━━━━━━━━━━━━━━━━━━━\u001b[0m\u001b[37m\u001b[0m \u001b[1m1s\u001b[0m 2ms/step - accuracy: 0.9509 - loss: 0.1662 - val_accuracy: 0.9701 - val_loss: 0.1107\n",
      "Epoch 11/20\n",
      "\u001b[1m561/561\u001b[0m \u001b[32m━━━━━━━━━━━━━━━━━━━━\u001b[0m\u001b[37m\u001b[0m \u001b[1m1s\u001b[0m 2ms/step - accuracy: 0.9501 - loss: 0.1602 - val_accuracy: 0.9716 - val_loss: 0.1028\n",
      "Epoch 12/20\n",
      "\u001b[1m561/561\u001b[0m \u001b[32m━━━━━━━━━━━━━━━━━━━━\u001b[0m\u001b[37m\u001b[0m \u001b[1m1s\u001b[0m 2ms/step - accuracy: 0.9527 - loss: 0.1452 - val_accuracy: 0.9765 - val_loss: 0.0923\n",
      "Epoch 13/20\n",
      "\u001b[1m561/561\u001b[0m \u001b[32m━━━━━━━━━━━━━━━━━━━━\u001b[0m\u001b[37m\u001b[0m \u001b[1m1s\u001b[0m 2ms/step - accuracy: 0.9537 - loss: 0.1408 - val_accuracy: 0.9765 - val_loss: 0.0857\n",
      "Epoch 14/20\n",
      "\u001b[1m561/561\u001b[0m \u001b[32m━━━━━━━━━━━━━━━━━━━━\u001b[0m\u001b[37m\u001b[0m \u001b[1m1s\u001b[0m 2ms/step - accuracy: 0.9549 - loss: 0.1339 - val_accuracy: 0.9801 - val_loss: 0.0732\n",
      "Epoch 15/20\n",
      "\u001b[1m561/561\u001b[0m \u001b[32m━━━━━━━━━━━━━━━━━━━━\u001b[0m\u001b[37m\u001b[0m \u001b[1m1s\u001b[0m 2ms/step - accuracy: 0.9606 - loss: 0.1229 - val_accuracy: 0.9825 - val_loss: 0.0719\n",
      "Epoch 16/20\n",
      "\u001b[1m561/561\u001b[0m \u001b[32m━━━━━━━━━━━━━━━━━━━━\u001b[0m\u001b[37m\u001b[0m \u001b[1m1s\u001b[0m 2ms/step - accuracy: 0.9643 - loss: 0.1141 - val_accuracy: 0.9809 - val_loss: 0.0652\n",
      "Epoch 17/20\n",
      "\u001b[1m561/561\u001b[0m \u001b[32m━━━━━━━━━━━━━━━━━━━━\u001b[0m\u001b[37m\u001b[0m \u001b[1m1s\u001b[0m 2ms/step - accuracy: 0.9643 - loss: 0.1079 - val_accuracy: 0.9849 - val_loss: 0.0581\n",
      "Epoch 18/20\n",
      "\u001b[1m561/561\u001b[0m \u001b[32m━━━━━━━━━━━━━━━━━━━━\u001b[0m\u001b[37m\u001b[0m \u001b[1m1s\u001b[0m 2ms/step - accuracy: 0.9650 - loss: 0.1069 - val_accuracy: 0.9844 - val_loss: 0.0562\n",
      "Epoch 19/20\n",
      "\u001b[1m561/561\u001b[0m \u001b[32m━━━━━━━━━━━━━━━━━━━━\u001b[0m\u001b[37m\u001b[0m \u001b[1m1s\u001b[0m 2ms/step - accuracy: 0.9615 - loss: 0.1075 - val_accuracy: 0.9852 - val_loss: 0.0506\n",
      "Epoch 20/20\n",
      "\u001b[1m561/561\u001b[0m \u001b[32m━━━━━━━━━━━━━━━━━━━━\u001b[0m\u001b[37m\u001b[0m \u001b[1m1s\u001b[0m 2ms/step - accuracy: 0.9612 - loss: 0.1050 - val_accuracy: 0.9865 - val_loss: 0.0492\n"
     ]
    }
   ],
   "source": [
    "# Model 3: both title and text\n",
    "# adapt the text and title vectorization layers\n",
    "title_vectorize_layer = tf.keras.layers.TextVectorization(max_tokens=max_tokens, output_mode='int')\n",
    "text_vectorize_layer = tf.keras.layers.TextVectorization(max_tokens=max_tokens, output_mode='int')\n",
    "\n",
    "title_vectorize_layer.adapt(train_dataset.map(lambda x, y: x[0]))\n",
    "text_vectorize_layer.adapt(train_dataset.map(lambda x, y: x[1]))\n",
    "\n",
    "# Create and compile the combined model\n",
    "title_input = tf.keras.Input(shape=(1,), dtype=tf.string, name='title')\n",
    "text_input = tf.keras.Input(shape=(1,), dtype=tf.string, name='text')\n",
    "\n",
    "title_vector = title_vectorize_layer(title_input)\n",
    "text_vector = text_vectorize_layer(text_input)\n",
    "\n",
    "title_embed = layers.Embedding(max_tokens, output_dim=3)(title_vector)\n",
    "text_embed = layers.Embedding(max_tokens, output_dim=3)(text_vector)\n",
    "\n",
    "title_pool = layers.GlobalAveragePooling1D()(title_embed)\n",
    "text_pool = layers.GlobalAveragePooling1D()(text_embed)\n",
    "\n",
    "#concatenate the layers\n",
    "concatenated = layers.concatenate([title_pool, text_pool])\n",
    "dropout = layers.Dropout(0.5)(concatenated)\n",
    "output = layers.Dense(1, activation='sigmoid')(dropout)\n",
    "\n",
    "model_both = tf.keras.Model(inputs=[title_input, text_input], \n",
    "                            outputs=output)\n",
    "\n",
    "#compile the models\n",
    "model_both.compile(optimizer='adam', loss='binary_crossentropy', metrics=['accuracy'])\n",
    "\n",
    "# Train the combined model\n",
    "text_title = model_both.fit(\n",
    "    train_dataset.map(lambda x, y: ((x[0], x[1]), y)), \n",
    "    epochs=20, \n",
    "    validation_data=test_dataset.map(lambda x, y: ((x[0], x[1]), y))\n",
    ")\n"
   ]
  },
  {
   "cell_type": "code",
   "execution_count": 12,
   "metadata": {},
   "outputs": [
    {
     "data": {
      "image/png": "[encoded data removed]",
      "text/plain": [
       "<Figure size 640x480 with 1 Axes>"
      ]
     },
     "metadata": {},
     "output_type": "display_data"
    },
    {
     "data": {
      "image/png": "[encoded data removed]",
      "text/plain": [
       "<Figure size 640x480 with 1 Axes>"
      ]
     },
     "metadata": {},
     "output_type": "display_data"
    },
    {
     "data": {
      "image/png": "[encoded data removed]",
      "text/plain": [
       "<Figure size 640x480 with 1 Axes>"
      ]
     },
     "metadata": {},
     "output_type": "display_data"
    }
   ],
   "source": [
    "# Plot training histories\n",
    "def plot_history(model, title):\n",
    "    \"\"\"\n",
    "    Plots the training and validation accuracy of model vs epochs\n",
    "\n",
    "    Args:\n",
    "    - model (tf.keras.Model): trained model with the history of training\n",
    "    - title (str): plot title\n",
    "\n",
    "    Returns:\n",
    "    - None: function show plotted graph directly\n",
    "    \"\"\"\n",
    "    #plot the accuracy vs epoch plot for each model\n",
    "    plt.plot(model.history['accuracy'])\n",
    "    plt.plot(model.history['val_accuracy'])\n",
    "    plt.title(title)\n",
    "    plt.ylabel('Accuracy')\n",
    "    plt.xlabel('Epoch')\n",
    "    plt.legend(['Train', 'Test'], loc='upper left')\n",
    "    plt.show()\n",
    "\n",
    "#execute the plot functions\n",
    "plot_history(title_only, 'Model 1: Title only vs Epoch')\n",
    "plot_history(text_only, 'Model 2: Text Only vs Epoch')\n",
    "plot_history(text_title, 'Model 3: Both title and text vs Epoch')"
   ]
  },
  {
   "cell_type": "markdown",
   "metadata": {},
   "source": [
    "## Acquiring data\n",
    "\n",
    "Read the csv file from the given link \n",
    "\n",
    "    train_url = \"https://github.com/PhilChodrow/PIC16b/blob/master/datasets/fake_news_train.csv?raw=true\""
   ]
  },
  {
   "cell_type": "code",
   "execution_count": 13,
   "metadata": {},
   "outputs": [],
   "source": [
    "#importing the new data\n",
    "test_url = \"https://github.com/PhilChodrow/PIC16b/blob/master/datasets/fake_news_test.csv?raw=true\"\n",
    "test_data = pd.read_csv(test_url)"
   ]
  },
  {
   "cell_type": "markdown",
   "metadata": {},
   "source": [
    "### What Accuracy Should You Aim For?\n",
    "\n",
    "Your three different models might have noticeably different performance. Your best model should be able to consistently score at least 97% validation accuracy.\n",
    "\n",
    "After comparing the performance of each model on validation data, make a recommendation regarding the question at the beginning of this section. Should algorithms use the title, the text, or both when seeking to detect fake news?"
   ]
  },
  {
   "cell_type": "markdown",
   "metadata": {},
   "source": [
    "- Answer: Based on the graphs above, the both title and text model provides the best accuacy for the test data and is able to consistently achieve above 95% in test data after the 5th epoch. Therefore, this model is optimial for detecting fake news compared to the other two models."
   ]
  },
  {
   "cell_type": "markdown",
   "metadata": {},
   "source": [
    "## Model Evaluation\n",
    "\n",
    "Now we’ll test your model performance on unseen test data. For this part, you can focus on your best model, and ignore the other two.\n",
    "\n",
    "Once you’re satisfied with your best model’s performance on validation data, download the test data here:\n",
    "\n",
    "    test_url = \"https://github.com/PhilChodrow/PIC16b/blob/master/datasets/fake_news_test.csv?raw=true\""
   ]
  },
  {
   "cell_type": "code",
   "execution_count": 14,
   "metadata": {},
   "outputs": [
    {
     "name": "stdout",
     "output_type": "stream",
     "text": [
      "\u001b[1m702/702\u001b[0m \u001b[32m━━━━━━━━━━━━━━━━━━━━\u001b[0m\u001b[37m\u001b[0m \u001b[1m1s\u001b[0m 1ms/step - accuracy: 0.9750 - loss: 0.0749\n",
      "Test Loss: 0.0728958249092102\n",
      "Test Accuracy: 0.9760791063308716\n"
     ]
    }
   ],
   "source": [
    "#apply preprocessing to title and text datat\n",
    "test_data['title'] = test_data['title'].apply(preprocess_text)\n",
    "test_data['text'] = test_data['text'].apply(preprocess_text)\n",
    "\n",
    "# Create tf.data.Dataset for test data\n",
    "test_dataset = make_dataset(test_data).batch(32)\n",
    "\n",
    "#test the data on the model and print result\n",
    "test_loss, test_accuracy = model_both.evaluate(test_dataset)\n",
    "print(f\"Test Loss: {test_loss}\")\n",
    "print(f\"Test Accuracy: {test_accuracy}\")"
   ]
  },
  {
   "cell_type": "markdown",
   "metadata": {},
   "source": [
    "# Grading items:\n",
    "\n",
    "\n",
    "#### Data Prep\n",
    "1. Stopwords are removed during the construction of the data set.\n",
    "\n",
    "2. make_dataset is implemented as a function, and used to create both the training/validation and testing data sets.\n",
    "\n",
    "3. The constructed Dataset has multiple inputs.\n",
    "\n",
    "4. Write a function to do train test split. \n",
    "\n",
    "5. 20% of the training data is split off for validation.\n",
    "\n",
    "#### Models\n",
    "6. Model 1 uses only the article title.\n",
    "\n",
    "7. Model 2 uses only the article text.\n",
    "\n",
    "8. Model 3 uses both the article title and text.\n",
    "\n",
    "9. For model 3, embedding is consistent with the text vectorization method. i.e., if you use shared embedding layer, the preceding text vectorization layer also should be shared.\n",
    "\n",
    "10. The training history is plotted for each of the three models, including the training and validation performance.\n",
    "\n",
    "11. The most performant model is evaluated on the test data set.\n",
    "\n",
    "12. The best model consistently obtains at least 97% accuracy on the validation set.\n",
    "\n",
    "13. The best model’s performance on the test set is shown.\n",
    "\n",
    "#### Style and Documentation\n",
    "\n",
    "14. Throughout the HW, function docstrings, incline comments, and markdown are required. "
   ]
  }
 ],
 "metadata": {
  "kernelspec": {
   "display_name": "Python 3",
   "language": "python",
   "name": "python3"
  },
  "language_info": {
   "codemirror_mode": {
    "name": "ipython",
    "version": 3
   },
   "file_extension": ".py",
   "mimetype": "text/x-python",
   "name": "python",
   "nbconvert_exporter": "python",
   "pygments_lexer": "ipython3",
   "version": "3.1.-1"
  }
 },
 "nbformat": 4,
 "nbformat_minor": 4
}
